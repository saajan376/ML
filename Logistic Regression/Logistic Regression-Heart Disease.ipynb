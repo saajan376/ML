{
 "cells": [
  {
   "cell_type": "code",
   "execution_count": 1,
   "id": "cd88e23b",
   "metadata": {},
   "outputs": [
    {
     "data": {
      "text/plain": [
       "id            0\n",
       "age           0\n",
       "sex           0\n",
       "dataset       0\n",
       "cp            0\n",
       "trestbps     59\n",
       "chol         30\n",
       "fbs          90\n",
       "restecg       2\n",
       "thalch       55\n",
       "exang        55\n",
       "oldpeak      62\n",
       "slope       309\n",
       "ca          611\n",
       "thal        486\n",
       "num           0\n",
       "dtype: int64"
      ]
     },
     "execution_count": 1,
     "metadata": {},
     "output_type": "execute_result"
    }
   ],
   "source": [
    "#Step 1: Importing the necessary libraries\n",
    "import pandas as pd\n",
    "import numpy as np\n",
    "import seaborn as sns\n",
    "import matplotlib.pyplot as plt\n",
    "from sklearn.model_selection import train_test_split\n",
    "from sklearn.preprocessing import StandardScaler\n",
    "from sklearn.linear_model import LogisticRegression\n",
    "from sklearn.metrics import accuracy_score, classification_report, confusion_matrix\n",
    "\n",
    "#Step 2: Loading the dataset\n",
    "df = pd.read_csv('heart.csv')\n",
    "\n",
    "#Step 3: Data Preprocessing and Data Cleaning\n",
    "# Checking for null values\n",
    "df.isnull().sum()\n"
   ]
  },
  {
   "cell_type": "code",
   "execution_count": 2,
   "id": "b1402c26",
   "metadata": {},
   "outputs": [
    {
     "name": "stderr",
     "output_type": "stream",
     "text": [
      "C:\\Users\\saaja\\AppData\\Local\\Temp\\ipykernel_17816\\2264743203.py:10: FutureWarning: A value is trying to be set on a copy of a DataFrame or Series through chained assignment using an inplace method.\n",
      "The behavior will change in pandas 3.0. This inplace method will never work because the intermediate object on which we are setting values always behaves as a copy.\n",
      "\n",
      "For example, when doing 'df[col].method(value, inplace=True)', try using 'df.method({col: value}, inplace=True)' or df[col] = df[col].method(value) instead, to perform the operation inplace on the original object.\n",
      "\n",
      "\n",
      "  df[col].fillna(median_val, inplace=True)\n",
      "C:\\Users\\saaja\\AppData\\Local\\Temp\\ipykernel_17816\\2264743203.py:10: FutureWarning: A value is trying to be set on a copy of a DataFrame or Series through chained assignment using an inplace method.\n",
      "The behavior will change in pandas 3.0. This inplace method will never work because the intermediate object on which we are setting values always behaves as a copy.\n",
      "\n",
      "For example, when doing 'df[col].method(value, inplace=True)', try using 'df.method({col: value}, inplace=True)' or df[col] = df[col].method(value) instead, to perform the operation inplace on the original object.\n",
      "\n",
      "\n",
      "  df[col].fillna(median_val, inplace=True)\n",
      "C:\\Users\\saaja\\AppData\\Local\\Temp\\ipykernel_17816\\2264743203.py:10: FutureWarning: A value is trying to be set on a copy of a DataFrame or Series through chained assignment using an inplace method.\n",
      "The behavior will change in pandas 3.0. This inplace method will never work because the intermediate object on which we are setting values always behaves as a copy.\n",
      "\n",
      "For example, when doing 'df[col].method(value, inplace=True)', try using 'df.method({col: value}, inplace=True)' or df[col] = df[col].method(value) instead, to perform the operation inplace on the original object.\n",
      "\n",
      "\n",
      "  df[col].fillna(median_val, inplace=True)\n",
      "C:\\Users\\saaja\\AppData\\Local\\Temp\\ipykernel_17816\\2264743203.py:10: FutureWarning: A value is trying to be set on a copy of a DataFrame or Series through chained assignment using an inplace method.\n",
      "The behavior will change in pandas 3.0. This inplace method will never work because the intermediate object on which we are setting values always behaves as a copy.\n",
      "\n",
      "For example, when doing 'df[col].method(value, inplace=True)', try using 'df.method({col: value}, inplace=True)' or df[col] = df[col].method(value) instead, to perform the operation inplace on the original object.\n",
      "\n",
      "\n",
      "  df[col].fillna(median_val, inplace=True)\n",
      "C:\\Users\\saaja\\AppData\\Local\\Temp\\ipykernel_17816\\2264743203.py:17: FutureWarning: A value is trying to be set on a copy of a DataFrame or Series through chained assignment using an inplace method.\n",
      "The behavior will change in pandas 3.0. This inplace method will never work because the intermediate object on which we are setting values always behaves as a copy.\n",
      "\n",
      "For example, when doing 'df[col].method(value, inplace=True)', try using 'df.method({col: value}, inplace=True)' or df[col] = df[col].method(value) instead, to perform the operation inplace on the original object.\n",
      "\n",
      "\n",
      "  df[col].fillna(mode_val, inplace=True)\n",
      "C:\\Users\\saaja\\AppData\\Local\\Temp\\ipykernel_17816\\2264743203.py:17: FutureWarning: Downcasting object dtype arrays on .fillna, .ffill, .bfill is deprecated and will change in a future version. Call result.infer_objects(copy=False) instead. To opt-in to the future behavior, set `pd.set_option('future.no_silent_downcasting', True)`\n",
      "  df[col].fillna(mode_val, inplace=True)\n"
     ]
    },
    {
     "data": {
      "text/plain": [
       "id          0\n",
       "age         0\n",
       "sex         0\n",
       "dataset     0\n",
       "cp          0\n",
       "trestbps    0\n",
       "chol        0\n",
       "fbs         0\n",
       "restecg     0\n",
       "thalch      0\n",
       "exang       0\n",
       "oldpeak     0\n",
       "num         0\n",
       "dtype: int64"
      ]
     },
     "execution_count": 2,
     "metadata": {},
     "output_type": "execute_result"
    }
   ],
   "source": [
    "#since slope, thal and ca contain more than 50% of null values, we will drop them\n",
    "df.drop(['slope', 'thal', 'ca'], axis=1, inplace=True)\n",
    "# Filling numerical columns with median values\n",
    "\n",
    "# Impute (fill in) missing values for numerical columns using the median.\n",
    "# The median is robust to outliers and is a good choice for imputation.\n",
    "numerical_cols = ['trestbps', 'chol', 'thalch', 'oldpeak']\n",
    "for col in numerical_cols:\n",
    "    median_val = df[col].median()\n",
    "    df[col].fillna(median_val, inplace=True)\n",
    "\n",
    "\n",
    "# Impute missing values for categorical columns using the mode (most frequent value).\n",
    "categorical_cols_to_impute = ['fbs', 'exang', 'restecg']\n",
    "for col in categorical_cols_to_impute:\n",
    "    mode_val = df[col].mode()[0]\n",
    "    df[col].fillna(mode_val, inplace=True)\n",
    "\n",
    "df.isnull().sum()\n"
   ]
  },
  {
   "cell_type": "code",
   "execution_count": 6,
   "id": "874e1560",
   "metadata": {},
   "outputs": [
    {
     "name": "stdout",
     "output_type": "stream",
     "text": [
      "Model Accuracy: 0.81\n",
      "\n",
      "Classification Report:\n",
      "              precision    recall  f1-score   support\n",
      "\n",
      "  No Disease       0.75      0.80      0.77        75\n",
      " Has Disease       0.86      0.82      0.84       109\n",
      "\n",
      "    accuracy                           0.81       184\n",
      "   macro avg       0.80      0.81      0.80       184\n",
      "weighted avg       0.81      0.81      0.81       184\n",
      "\n",
      "\n",
      "\n",
      "Confusion Matrix:\n"
     ]
    },
    {
     "data": {
      "image/png": "[encoded data removed]",
      "text/plain": [
       "<Figure size 800x600 with 2 Axes>"
      ]
     },
     "metadata": {},
     "output_type": "display_data"
    }
   ],
   "source": [
    "# --- Step 4: Feature Engineering and Final Preparation ---\n",
    "\n",
    "# Create the binary target variable.\n",
    "# 'num' > 0 indicates the presence of heart disease (1), otherwise it's 0.\n",
    "df['target'] = df['num'].apply(lambda x: 1 if x > 0 else 0)\n",
    "\n",
    "# Identify all categorical columns that need to be converted to numbers.\n",
    "categorical_cols = ['sex', 'dataset', 'cp', 'fbs', 'restecg', 'exang']\n",
    "\n",
    "# Apply one-hot encoding to convert categorical variables into a numerical format.\n",
    "# 'drop_first=True' is used to avoid multicollinearity.\n",
    "df_encoded = pd.get_dummies(df, columns=categorical_cols, drop_first=True)\n",
    "\n",
    "# Drop original columns that are no longer needed.\n",
    "df_encoded.drop(['id', 'num'], axis=1, inplace=True)\n",
    "\n",
    "\n",
    "#Step 5: Splitting the dataset into training and testing sets\n",
    "x = df_encoded.drop('target', axis=1)\n",
    "y = df_encoded['target']\n",
    "x_train, x_test, y_train, y_test = train_test_split(x, y, test_size=0.2, random_state=42)\n",
    "# Scale the numerical features.\n",
    "# This standardizes the features to have a mean of 0 and a standard deviation of 1,\n",
    "# which helps the logistic regression model perform better.\n",
    "# Note: We only fit the scaler on the training data to avoid data leakage.\n",
    "scaler = StandardScaler()\n",
    "numerical_feature_cols = ['age', 'trestbps', 'chol', 'thalch', 'oldpeak']\n",
    "x_train[numerical_feature_cols] = scaler.fit_transform(x_train[numerical_feature_cols])\n",
    "x_test[numerical_feature_cols] = scaler.transform(x_test[numerical_feature_cols])\n",
    "\n",
    "\n",
    "#Step 6: Model Training and Evaluation\n",
    "# Initialize the logistic regression model.\n",
    "model = LogisticRegression(max_iter=1000)\n",
    "# Fit the model on the training data.\n",
    "model.fit(x_train, y_train)\n",
    "# Make predictions on the test set.\n",
    "predictions = model.predict(x_test)\n",
    "\n",
    "# --- Step 7: Display Model Performance ---\n",
    "\n",
    "# Calculate and print the overall accuracy of the model.\n",
    "accuracy = accuracy_score(y_test, predictions)\n",
    "print(f\"Model Accuracy: {accuracy:.2f}\\n\")\n",
    "\n",
    "# Print a detailed classification report showing precision, recall, and F1-score.\n",
    "print(\"Classification Report:\")\n",
    "print(classification_report(y_test, predictions, target_names=['No Disease', 'Has Disease']))\n",
    "print(\"\\n\")\n",
    "\n",
    "# Generate and plot a confusion matrix to visualize the model's performance.\n",
    "print(\"Confusion Matrix:\")\n",
    "cm = confusion_matrix(y_test, predictions)\n",
    "plt.figure(figsize=(8, 6))\n",
    "sns.heatmap(cm, annot=True, fmt='d', cmap='Blues',\n",
    "            xticklabels=['No Disease', 'Has Disease'],\n",
    "            yticklabels=['No Disease', 'Has Disease'])\n",
    "plt.xlabel('Predicted Label')\n",
    "plt.ylabel('True Label')\n",
    "plt.title('Confusion Matrix')\n",
    "plt.show()\n"
   ]
  }
 ],
 "metadata": {
  "kernelspec": {
   "display_name": "Python 3",
   "language": "python",
   "name": "python3"
  },
  "language_info": {
   "codemirror_mode": {
    "name": "ipython",
    "version": 3
   },
   "file_extension": ".py",
   "mimetype": "text/x-python",
   "name": "python",
   "nbconvert_exporter": "python",
   "pygments_lexer": "ipython3",
   "version": "3.10.11"
  }
 },
 "nbformat": 4,
 "nbformat_minor": 5
}
